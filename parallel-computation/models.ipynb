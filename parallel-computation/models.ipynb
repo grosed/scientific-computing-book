{
 "cells": [
  {
   "cell_type": "markdown",
   "id": "37b7e393-fac0-490d-a8ca-b56ba0503960",
   "metadata": {},
   "source": [
    "# Models of Parallel Computing"
   ]
  }
 ],
 "metadata": {
  "kernelspec": {
   "display_name": "Python 3 (ipykernel)",
   "language": "python",
   "name": "python3"
  },
  "language_info": {
   "codemirror_mode": {
    "name": "ipython",
    "version": 3
   },
   "file_extension": ".py",
   "mimetype": "text/x-python",
   "name": "python",
   "nbconvert_exporter": "python",
   "pygments_lexer": "ipython3",
   "version": "3.10.0"
  }
 },
 "nbformat": 4,
 "nbformat_minor": 5
}
