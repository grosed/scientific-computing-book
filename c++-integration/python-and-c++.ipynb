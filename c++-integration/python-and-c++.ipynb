{
 "cells": [
  {
   "cell_type": "markdown",
   "id": "2b120641-6d07-4023-894f-3a040aab1f54",
   "metadata": {},
   "source": [
    "# Integrating Python and C++ using **pybind11**"
   ]
  }
 ],
 "metadata": {
  "kernelspec": {
   "display_name": "Python 3 (ipykernel)",
   "language": "python",
   "name": "python3"
  },
  "language_info": {
   "codemirror_mode": {
    "name": "ipython",
    "version": 3
   },
   "file_extension": ".py",
   "mimetype": "text/x-python",
   "name": "python",
   "nbconvert_exporter": "python",
   "pygments_lexer": "ipython3",
   "version": "3.10.0"
  }
 },
 "nbformat": 4,
 "nbformat_minor": 5
}
