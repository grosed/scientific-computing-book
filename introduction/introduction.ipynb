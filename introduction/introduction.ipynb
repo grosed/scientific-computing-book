{
 "cells": [
  {
   "cell_type": "markdown",
   "id": "6ee47f78-6863-4440-9862-5462ff61bc9d",
   "metadata": {},
   "source": [
    "# Introduction"
   ]
  },
  {
   "cell_type": "code",
   "execution_count": null,
   "id": "7a525eb9-066a-47b3-8773-48fd3cc2a081",
   "metadata": {},
   "outputs": [],
   "source": []
  },
  {
   "cell_type": "markdown",
   "id": "e2b2203b-9a21-4c9d-9bb4-aef49d2ac5b9",
   "metadata": {},
   "source": [
    "blaah - blaah"
   ]
  },
  {
   "cell_type": "code",
   "execution_count": null,
   "id": "f8757a1f-d009-4713-93a1-a5ec2429fdd3",
   "metadata": {},
   "outputs": [],
   "source": []
  }
 ],
 "metadata": {
  "kernelspec": {
   "display_name": "Python 3 (ipykernel)",
   "language": "python",
   "name": "python3"
  },
  "language_info": {
   "codemirror_mode": {
    "name": "ipython",
    "version": 3
   },
   "file_extension": ".py",
   "mimetype": "text/x-python",
   "name": "python",
   "nbconvert_exporter": "python",
   "pygments_lexer": "ipython3",
   "version": "3.10.0"
  }
 },
 "nbformat": 4,
 "nbformat_minor": 5
}
