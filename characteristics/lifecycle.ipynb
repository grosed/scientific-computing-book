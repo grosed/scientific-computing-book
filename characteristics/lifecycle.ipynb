{
 "cells": [
  {
   "cell_type": "markdown",
   "id": "d3398529-c763-47c3-9b09-b351a92075da",
   "metadata": {},
   "source": [
    "# Software Development Lifecycle"
   ]
  }
 ],
 "metadata": {
  "kernelspec": {
   "display_name": "Python 3 (ipykernel)",
   "language": "python",
   "name": "python3"
  },
  "language_info": {
   "codemirror_mode": {
    "name": "ipython",
    "version": 3
   },
   "file_extension": ".py",
   "mimetype": "text/x-python",
   "name": "python",
   "nbconvert_exporter": "python",
   "pygments_lexer": "ipython3",
   "version": "3.10.0"
  }
 },
 "nbformat": 4,
 "nbformat_minor": 5
}
