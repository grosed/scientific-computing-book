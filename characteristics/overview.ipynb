{
 "cells": [
  {
   "cell_type": "markdown",
   "id": "1c97a6ab-4f30-4f79-9256-cd3e13528d27",
   "metadata": {},
   "source": [
    "# Characterisitics of Scientific Software - the 5 Rs"
   ]
  },
  {
   "cell_type": "markdown",
   "id": "38fada5f-7f50-46f5-bd5a-d6f33547896f",
   "metadata": {},
   "source": [
    "Here is a citation {cite:p}`perez2011python`."
   ]
  }
 ],
 "metadata": {
  "kernelspec": {
   "display_name": "Python 3 (ipykernel)",
   "language": "python",
   "name": "python3"
  },
  "language_info": {
   "codemirror_mode": {
    "name": "ipython",
    "version": 3
   },
   "file_extension": ".py",
   "mimetype": "text/x-python",
   "name": "python",
   "nbconvert_exporter": "python",
   "pygments_lexer": "ipython3",
   "version": "3.10.0"
  }
 },
 "nbformat": 4,
 "nbformat_minor": 5
}
