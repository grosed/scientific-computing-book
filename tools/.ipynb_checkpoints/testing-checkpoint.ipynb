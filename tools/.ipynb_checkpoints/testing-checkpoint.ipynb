{
 "cells": [
  {
   "cell_type": "markdown",
   "id": "d83d9d7f-7148-4202-ba92-29b8394a12e9",
   "metadata": {},
   "source": [
    "# Testing"
   ]
  },
  {
   "cell_type": "markdown",
   "id": "25cd3dcb-b09d-4182-ab86-ec5eab117505",
   "metadata": {},
   "source": [
    "## Unit Tests"
   ]
  },
  {
   "cell_type": "markdown",
   "id": "f8086b0f-3ab1-460b-ad61-775f267bfe59",
   "metadata": {},
   "source": [
    "## Development Time Testing"
   ]
  },
  {
   "cell_type": "markdown",
   "id": "5db7ebf2-1eae-410e-a052-7ca46ccbb1b1",
   "metadata": {},
   "source": [
    "## Run Time Testing"
   ]
  },
  {
   "cell_type": "markdown",
   "id": "20708bd3-5009-4d04-aa0e-6e91a31100fd",
   "metadata": {},
   "source": [
    "## Unit Testing"
   ]
  }
 ],
 "metadata": {
  "kernelspec": {
   "display_name": "Python 3 (ipykernel)",
   "language": "python",
   "name": "python3"
  },
  "language_info": {
   "codemirror_mode": {
    "name": "ipython",
    "version": 3
   },
   "file_extension": ".py",
   "mimetype": "text/x-python",
   "name": "python",
   "nbconvert_exporter": "python",
   "pygments_lexer": "ipython3",
   "version": "3.10.0"
  }
 },
 "nbformat": 4,
 "nbformat_minor": 5
}
